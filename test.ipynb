{
 "cells": [
  {
   "cell_type": "code",
   "execution_count": 1,
   "id": "4401005c",
   "metadata": {},
   "outputs": [],
   "source": [
    "from utils.data_depth import DepthDataset\n",
    "from utils.plot import plot_3d_pointcloud\n",
    "import numpy as np"
   ]
  },
  {
   "cell_type": "code",
   "execution_count": 2,
   "id": "703a258f",
   "metadata": {},
   "outputs": [],
   "source": [
    "dataset = DepthDataset(partition='train', \n",
    "                       outputs=['depth', 'edge_label', 'edge_index'],\n",
    "                       pc_mean=0.5,          # Hace que la media de valores de profundidad (Z) sea 0.5 (mejora el resultado de regresión con Sigmoid)\n",
    "                       repeat=1,             # Repite los elementos del dataset (sólo lo uso cuando overfitteo a un modelo y quiero usar batch_size > 1)\n",
    "                       shuffle_pixels=False, # Mezcla aleatoriamente los pixeles dentro de cada modelo (no está implementado para edge_label y edge_index)\n",
    "                       preload=True)         # Almacena el dataset en RAM"
   ]
  },
  {
   "cell_type": "code",
   "execution_count": 4,
   "id": "5546c27d",
   "metadata": {},
   "outputs": [
    {
     "data": {
      "application/vnd.jupyter.widget-view+json": {
       "model_id": "9b142500fb8f4ce4881e2ca8a41aefd4",
       "version_major": 2,
       "version_minor": 0
      },
      "text/plain": [
       "Renderer(camera=PerspectiveCamera(children=(DirectionalLight(color='white', intensity=0.6, position=(-0.008105…"
      ]
     },
     "metadata": {},
     "output_type": "display_data"
    }
   ],
   "source": [
    "pixels, depth, edge_label, edge_index = dataset[0]\n",
    "\n",
    "# Para graficar la nube de puntos\n",
    "plot_3d_pointcloud(dataset.denormalize(pixels), depth, dataset.im_shape)"
   ]
  },
  {
   "cell_type": "code",
   "execution_count": 5,
   "id": "57d5e2e8",
   "metadata": {},
   "outputs": [
    {
     "data": {
      "application/vnd.jupyter.widget-view+json": {
       "model_id": "943612fa5e3743d48aedc657dc51d04b",
       "version_major": 2,
       "version_minor": 0
      },
      "text/plain": [
       "Renderer(camera=PerspectiveCamera(children=(DirectionalLight(color='white', intensity=0.6, position=(-0.008105…"
      ]
     },
     "metadata": {},
     "output_type": "display_data"
    }
   ],
   "source": [
    "# Para graficar las conexiones\n",
    "plot_3d_pointcloud(dataset.denormalize(pixels), depth, dataset.im_shape, edge_index.transpose())"
   ]
  },
  {
   "cell_type": "code",
   "execution_count": 6,
   "id": "14fa0f1c",
   "metadata": {},
   "outputs": [
    {
     "name": "stdout",
     "output_type": "stream",
     "text": [
      "pixels shape: (2, 2000) -> (XY, N)\n",
      "depth shape: (2000,) -> (Z, N)\n",
      "edge_label shape: (2000, 20) -> (N, k)\n",
      "edge_index shape: (2, 40000) -> (2, N*k)\n"
     ]
    }
   ],
   "source": [
    "print('pixels shape:', pixels.shape, '-> (XY, N)')\n",
    "print('depth shape:', depth.shape, '-> (Z, N)')\n",
    "print('edge_label shape:', edge_label.shape, '-> (N, k)')\n",
    "print('edge_index shape:', edge_index.shape, '-> (2, N*k)')"
   ]
  },
  {
   "cell_type": "code",
   "execution_count": 7,
   "id": "32c513df",
   "metadata": {},
   "outputs": [
    {
     "data": {
      "text/plain": [
       "array([[-0.17777778, -0.24814814,  0.28148147, ...,  0.35555556,\n",
       "         0.2851852 , -0.56296295],\n",
       "       [ 0.05925926, -0.37407407, -0.02962963, ...,  0.04814815,\n",
       "        -0.05185185,  0.04444445]], dtype=float32)"
      ]
     },
     "execution_count": 7,
     "metadata": {},
     "output_type": "execute_result"
    }
   ],
   "source": [
    "pixels"
   ]
  },
  {
   "cell_type": "code",
   "execution_count": 8,
   "id": "a662fba5",
   "metadata": {},
   "outputs": [
    {
     "data": {
      "text/plain": [
       "array([0.3680138 , 0.50919026, 0.7052687 , ..., 0.47389615, 0.7052687 ,\n",
       "       0.30919024], dtype=float32)"
      ]
     },
     "execution_count": 8,
     "metadata": {},
     "output_type": "execute_result"
    }
   ],
   "source": [
    "depth"
   ]
  },
  {
   "cell_type": "code",
   "execution_count": 9,
   "id": "ea898ccd",
   "metadata": {},
   "outputs": [
    {
     "data": {
      "text/plain": [
       "array([[0, 0, 0, ..., 0, 0, 0],\n",
       "       [0, 0, 0, ..., 0, 0, 0],\n",
       "       [0, 0, 0, ..., 0, 0, 0],\n",
       "       ...,\n",
       "       [0, 0, 0, ..., 0, 0, 0],\n",
       "       [0, 0, 0, ..., 0, 0, 0],\n",
       "       [0, 0, 0, ..., 0, 0, 0]], dtype=int64)"
      ]
     },
     "execution_count": 9,
     "metadata": {},
     "output_type": "execute_result"
    }
   ],
   "source": [
    "edge_label"
   ]
  },
  {
   "cell_type": "code",
   "execution_count": 10,
   "id": "0e41a46c",
   "metadata": {},
   "outputs": [
    {
     "data": {
      "text/plain": [
       "517"
      ]
     },
     "execution_count": 10,
     "metadata": {},
     "output_type": "execute_result"
    }
   ],
   "source": [
    "edge_label.sum()"
   ]
  },
  {
   "cell_type": "code",
   "execution_count": 11,
   "id": "69651130",
   "metadata": {},
   "outputs": [
    {
     "data": {
      "text/plain": [
       "array([[   0,    0,    0, ..., 1999, 1999, 1999],\n",
       "       [ 227,  242,  296, ..., 1412, 1437, 1757]], dtype=int64)"
      ]
     },
     "execution_count": 11,
     "metadata": {},
     "output_type": "execute_result"
    }
   ],
   "source": [
    "edge_index"
   ]
  },
  {
   "cell_type": "code",
   "execution_count": 12,
   "id": "d295003d",
   "metadata": {},
   "outputs": [],
   "source": [
    "N = pixels.shape[1]\n",
    "r,c = edge_index\n",
    "ady_matrix = np.zeros((N,N))\n",
    "ady_matrix[r,c] = 1\n",
    "for n in range(N):\n",
    "    c = edge_index[1, edge_index[0,:] == n][edge_label[n, :] == 1]\n",
    "    ady_matrix[n, c] = 2"
   ]
  },
  {
   "cell_type": "code",
   "execution_count": 13,
   "id": "34e9aff6",
   "metadata": {},
   "outputs": [
    {
     "data": {
      "text/plain": [
       "array([[0., 0., 0., ..., 0., 0., 0.],\n",
       "       [0., 0., 0., ..., 0., 0., 0.],\n",
       "       [0., 0., 0., ..., 0., 1., 0.],\n",
       "       ...,\n",
       "       [0., 0., 0., ..., 0., 0., 0.],\n",
       "       [0., 0., 1., ..., 0., 0., 0.],\n",
       "       [0., 0., 0., ..., 0., 0., 0.]])"
      ]
     },
     "execution_count": 13,
     "metadata": {},
     "output_type": "execute_result"
    }
   ],
   "source": [
    "# Esta matriz de adyacencia tiene 1 donde hay conexiones \"buenas\" y 2 donde hay conexiones que hay que eliminar\n",
    "ady_matrix"
   ]
  }
 ],
 "metadata": {
  "kernelspec": {
   "display_name": "Python 3 (ipykernel)",
   "language": "python",
   "name": "python3"
  },
  "language_info": {
   "codemirror_mode": {
    "name": "ipython",
    "version": 3
   },
   "file_extension": ".py",
   "mimetype": "text/x-python",
   "name": "python",
   "nbconvert_exporter": "python",
   "pygments_lexer": "ipython3",
   "version": "3.8.5"
  }
 },
 "nbformat": 4,
 "nbformat_minor": 5
}
