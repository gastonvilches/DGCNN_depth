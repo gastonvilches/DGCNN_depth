{
 "cells": [
  {
   "cell_type": "code",
   "execution_count": 1,
   "id": "610e3e0a",
   "metadata": {},
   "outputs": [],
   "source": [
    "from utils.data_depth import DepthDataset\n",
    "from utils.plot import plot_3d_pointcloud"
   ]
  },
  {
   "cell_type": "code",
   "execution_count": 2,
   "id": "87047924",
   "metadata": {},
   "outputs": [],
   "source": [
    "dataset = DepthDataset(partition='train', \n",
    "                       outputs=['depth', 'edge_label', 'edge_index'],\n",
    "                       pc_mean=0.5,          # Hace que la media de valores de profundidad (Z) sea 0.5 (mejora el resultado de regresión con Sigmoid)\n",
    "                       repeat=1,             # Repite los elementos del dataset (sólo lo uso cuando overfitteo a un modelo y quiero usar batch_size > 1)\n",
    "                       shuffle_pixels=False, # Mezcla aleatoriamente los pixeles dentro de cada modelo (no está implementado para edge_label y edge_index)\n",
    "                       preload=True)         # Almacena el dataset en RAM"
   ]
  },
  {
   "cell_type": "code",
   "execution_count": 3,
   "id": "35d589c8",
   "metadata": {},
   "outputs": [
    {
     "name": "stderr",
     "output_type": "stream",
     "text": [
      "C:\\ProgramData\\Anaconda3\\lib\\site-packages\\numpy\\core\\_asarray.py:171: VisibleDeprecationWarning: Creating an ndarray from ragged nested sequences (which is a list-or-tuple of lists-or-tuples-or ndarrays with different lengths or shapes) is deprecated. If you meant to do this, you must specify 'dtype=object' when creating the ndarray.\n",
      "  return array(a, dtype, copy=False, order=order, subok=True)\n"
     ]
    },
    {
     "data": {
      "application/vnd.jupyter.widget-view+json": {
       "model_id": "ae84245058cc4f2ba55cd373f553653c",
       "version_major": 2,
       "version_minor": 0
      },
      "text/plain": [
       "Renderer(camera=PerspectiveCamera(children=(DirectionalLight(color='white', intensity=0.6, position=(0.0034360…"
      ]
     },
     "metadata": {},
     "output_type": "display_data"
    }
   ],
   "source": [
    "pixels, depth, edge_label, edge_index = dataset[0]\n",
    "plot_3d_pointcloud(dataset.denormalize(pixels), depth, dataset.im_shape)"
   ]
  },
  {
   "cell_type": "code",
   "execution_count": 10,
   "id": "1939a726",
   "metadata": {},
   "outputs": [
    {
     "name": "stdout",
     "output_type": "stream",
     "text": [
      "pixels shape: (2, 2000) -> (XY, N)\n",
      "depth shape: (2000,) -> (Z, N)\n",
      "edge_label shape: (2000, 20) -> (N, k)\n",
      "edge_index shape: (2, 40000) -> (2, N*k)\n"
     ]
    }
   ],
   "source": [
    "print('pixels shape:', pixels.shape, '-> (XY, N)')\n",
    "print('depth shape:', depth.shape, '-> (Z, N)')\n",
    "print('edge_label shape:', edge_label.shape, '-> (N, k)')\n",
    "print('edge_index shape:', edge_index.shape, '-> (2, N*k)')"
   ]
  },
  {
   "cell_type": "code",
   "execution_count": 11,
   "id": "d341e819",
   "metadata": {},
   "outputs": [
    {
     "data": {
      "text/plain": [
       "array([[ 0.4       , -0.0037037 ,  0.31851852, ...,  0.37407407,\n",
       "        -0.01851852,  0.54814816],\n",
       "       [ 0.17037037,  0.25925925,  0.25925925, ...,  0.15925926,\n",
       "        -0.26666668,  0.31111112]], dtype=float32)"
      ]
     },
     "execution_count": 11,
     "metadata": {},
     "output_type": "execute_result"
    }
   ],
   "source": [
    "pixels"
   ]
  },
  {
   "cell_type": "code",
   "execution_count": 12,
   "id": "6e2e2d84",
   "metadata": {},
   "outputs": [
    {
     "data": {
      "text/plain": [
       "array([0.6694117 , 0.43411762, 0.49294114, ..., 0.6694117 , 0.512549  ,\n",
       "       0.51647055], dtype=float32)"
      ]
     },
     "execution_count": 12,
     "metadata": {},
     "output_type": "execute_result"
    }
   ],
   "source": [
    "depth"
   ]
  },
  {
   "cell_type": "code",
   "execution_count": 13,
   "id": "28b2248f",
   "metadata": {},
   "outputs": [
    {
     "data": {
      "text/plain": [
       "array([[0, 0, 0, ..., 0, 0, 0],\n",
       "       [0, 0, 0, ..., 0, 0, 0],\n",
       "       [0, 0, 0, ..., 0, 0, 0],\n",
       "       ...,\n",
       "       [0, 0, 0, ..., 0, 0, 0],\n",
       "       [0, 0, 0, ..., 0, 0, 0],\n",
       "       [0, 0, 0, ..., 0, 0, 0]], dtype=int64)"
      ]
     },
     "execution_count": 13,
     "metadata": {},
     "output_type": "execute_result"
    }
   ],
   "source": [
    "edge_label"
   ]
  },
  {
   "cell_type": "code",
   "execution_count": 15,
   "id": "bce9b9c1",
   "metadata": {},
   "outputs": [
    {
     "data": {
      "text/plain": [
       "373"
      ]
     },
     "execution_count": 15,
     "metadata": {},
     "output_type": "execute_result"
    }
   ],
   "source": [
    "edge_label.sum()"
   ]
  },
  {
   "cell_type": "code",
   "execution_count": 14,
   "id": "900f4b47",
   "metadata": {},
   "outputs": [
    {
     "data": {
      "text/plain": [
       "array([[   0,    0,    0, ..., 1999, 1999, 1999],\n",
       "       [ 164,  201,  233, ..., 1661, 1728, 1781]], dtype=int64)"
      ]
     },
     "execution_count": 14,
     "metadata": {},
     "output_type": "execute_result"
    }
   ],
   "source": [
    "edge_index"
   ]
  }
 ],
 "metadata": {
  "kernelspec": {
   "display_name": "Python 3 (ipykernel)",
   "language": "python",
   "name": "python3"
  },
  "language_info": {
   "codemirror_mode": {
    "name": "ipython",
    "version": 3
   },
   "file_extension": ".py",
   "mimetype": "text/x-python",
   "name": "python",
   "nbconvert_exporter": "python",
   "pygments_lexer": "ipython3",
   "version": "3.8.5"
  }
 },
 "nbformat": 4,
 "nbformat_minor": 5
}
