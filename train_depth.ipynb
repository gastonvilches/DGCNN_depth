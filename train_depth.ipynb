{
 "cells": [
  {
   "cell_type": "code",
   "execution_count": 3,
   "id": "6dcc0408",
   "metadata": {},
   "outputs": [],
   "source": [
    "import torch\n",
    "from torch import nn\n",
    "from torch.nn import functional as F\n",
    "import pytorch_lightning as pl\n",
    "\n",
    "from DGCNN import DGCNN_reg\n",
    "from utils.data_depth import DepthDataset\n",
    "from utils.dataloader import DataLoader\n",
    "from utils.plot import plot_3d_pointcloud"
   ]
  },
  {
   "cell_type": "markdown",
   "id": "16a579d1",
   "metadata": {},
   "source": [
    "### Hyperparameters:"
   ]
  },
  {
   "cell_type": "code",
   "execution_count": 4,
   "id": "6b818401",
   "metadata": {},
   "outputs": [],
   "source": [
    "batch_size = 12\n",
    "\n",
    "k = 20\n",
    "emb_dims = 1024\n",
    "dropout = 0.5\n",
    "\n",
    "lr = 1e-3\n",
    "epochs = 1000"
   ]
  },
  {
   "cell_type": "markdown",
   "id": "acf10e29",
   "metadata": {},
   "source": [
    "### Datasets and dataloaders:"
   ]
  },
  {
   "cell_type": "code",
   "execution_count": 5,
   "id": "e0dd7ee9",
   "metadata": {},
   "outputs": [],
   "source": [
    "train_set    = DepthDataset(partition='train', outputs=['depth','feature_map'], normalize=True, pc_mean=0.5, repeat=1)\n",
    "train_loader = DataLoader(train_set, num_workers=8, batch_size=batch_size, shuffle=True, drop_last=True, pin_memory=True)\n",
    "valid_set    = DepthDataset(partition='valid', outputs=['depth','feature_map'], normalize=True, pc_mean=0.5, repeat=1)\n",
    "valid_loader = DataLoader(valid_set, num_workers=8, batch_size=batch_size, shuffle=False, drop_last=True, pin_memory=True)"
   ]
  },
  {
   "cell_type": "code",
   "execution_count": 6,
   "id": "f2cd1717",
   "metadata": {
    "scrolled": true
   },
   "outputs": [
    {
     "name": "stderr",
     "output_type": "stream",
     "text": [
      "C:\\Users\\Gastón\\Desktop\\Gaston\\CONICET\\repos\\dgcnn_emma\\utils\\plot.py:19: VisibleDeprecationWarning: Creating an ndarray from ragged nested sequences (which is a list-or-tuple of lists-or-tuples-or ndarrays with different lengths or shapes) is deprecated. If you meant to do this, you must specify 'dtype=object' when creating the ndarray.\n",
      "  return np.array([[fx, 0, px, 0.],\n"
     ]
    },
    {
     "data": {
      "application/vnd.jupyter.widget-view+json": {
       "model_id": "d48b1367bdd443cab059a6be4c75b35f",
       "version_major": 2,
       "version_minor": 0
      },
      "text/plain": [
       "Renderer(camera=PerspectiveCamera(children=(DirectionalLight(color='white', intensity=0.6, position=(0.0033710…"
      ]
     },
     "metadata": {},
     "output_type": "display_data"
    }
   ],
   "source": [
    "pixels, depth, fm = train_set[0]\n",
    "plot_3d_pointcloud(train_set.denormalize(pixels), depth, train_set.im_shape)"
   ]
  },
  {
   "cell_type": "markdown",
   "id": "f5f0eff5",
   "metadata": {},
   "source": [
    "### Pytorch lightning system:"
   ]
  },
  {
   "cell_type": "code",
   "execution_count": 5,
   "id": "0f4fcd2d",
   "metadata": {},
   "outputs": [],
   "source": [
    "class DepthDGCNN(pl.LightningModule):\n",
    "\n",
    "    def __init__(self):\n",
    "        super().__init__()\n",
    "        self.dgcnn = DGCNN_reg(k=k, emb_dims=emb_dims, dropout=dropout, output_channels=1)\n",
    "        \n",
    "    def forward(self, batch):\n",
    "        pixels, depth, feature_map = batch\n",
    "        depth_pred = self.dgcnn(pixels, feature_map)\n",
    "        return depth_pred\n",
    "    \n",
    "    def training_step(self, batch, batch_idx):\n",
    "        pixels, depth, feature_map = batch\n",
    "        depth_pred = self.dgcnn(pixels, feature_map)\n",
    "        loss = F.mse_loss(depth_pred, depth)\n",
    "        self.log('loss', {'train': loss}, on_step=False, on_epoch=True)\n",
    "        return loss\n",
    "\n",
    "    def validation_step(self, batch, batch_idx):\n",
    "        pixels, depth, feature_map = batch\n",
    "        depth_pred = self.dgcnn(pixels, feature_map)\n",
    "        loss = F.mse_loss(depth_pred, depth)\n",
    "        self.log('loss', {'val': loss}, on_step=False, on_epoch=True)\n",
    "        \n",
    "    def test_step(self, batch, batch_idx):\n",
    "        pixels, depth, feature_map = batch\n",
    "        depth_pred = self.dgcnn(pixels, feature_map)\n",
    "        loss = F.mse_loss(depth_pred, depth)\n",
    "        self.log('loss', {'val': loss}, on_step=False, on_epoch=True)\n",
    "        \n",
    "    def configure_optimizers(self):\n",
    "        optimizer = torch.optim.Adam(self.parameters(), lr=lr)\n",
    "        return optimizer"
   ]
  },
  {
   "cell_type": "markdown",
   "id": "9854adf5",
   "metadata": {},
   "source": [
    "### Init tensorboard"
   ]
  },
  {
   "cell_type": "code",
   "execution_count": 6,
   "id": "592781ec",
   "metadata": {},
   "outputs": [
    {
     "data": {
      "text/plain": [
       "Reusing TensorBoard on port 6006 (pid 14752), started 1:09:32 ago. (Use '!kill 14752' to kill it.)"
      ]
     },
     "metadata": {},
     "output_type": "display_data"
    },
    {
     "data": {
      "text/html": [
       "\n",
       "      <iframe id=\"tensorboard-frame-6b8ec6aaa39c4c9\" width=\"100%\" height=\"800\" frameborder=\"0\">\n",
       "      </iframe>\n",
       "      <script>\n",
       "        (function() {\n",
       "          const frame = document.getElementById(\"tensorboard-frame-6b8ec6aaa39c4c9\");\n",
       "          const url = new URL(\"/\", window.location);\n",
       "          const port = 6006;\n",
       "          if (port) {\n",
       "            url.port = port;\n",
       "          }\n",
       "          frame.src = url;\n",
       "        })();\n",
       "      </script>\n",
       "    "
      ],
      "text/plain": [
       "<IPython.core.display.HTML object>"
      ]
     },
     "metadata": {},
     "output_type": "display_data"
    }
   ],
   "source": [
    "%load_ext tensorboard\n",
    "%tensorboard --logdir lightning_logs/"
   ]
  },
  {
   "cell_type": "markdown",
   "id": "c6adf876",
   "metadata": {},
   "source": [
    "### Init and train the model"
   ]
  },
  {
   "cell_type": "code",
   "execution_count": 6,
   "id": "d137abae",
   "metadata": {
    "scrolled": true
   },
   "outputs": [
    {
     "name": "stderr",
     "output_type": "stream",
     "text": [
      "GPU available: True, used: True\n",
      "TPU available: False, using: 0 TPU cores\n",
      "IPU available: False, using: 0 IPUs\n",
      "LOCAL_RANK: 0 - CUDA_VISIBLE_DEVICES: [0]\n",
      "\n",
      "  | Name  | Type      | Params\n",
      "------------------------------------\n",
      "0 | dgcnn | DGCNN_reg | 979 K \n",
      "------------------------------------\n",
      "979 K     Trainable params\n",
      "0         Non-trainable params\n",
      "979 K     Total params\n",
      "3.918     Total estimated model params size (MB)\n"
     ]
    },
    {
     "data": {
      "application/vnd.jupyter.widget-view+json": {
       "model_id": "",
       "version_major": 2,
       "version_minor": 0
      },
      "text/plain": [
       "Validation sanity check: 0it [00:00, ?it/s]"
      ]
     },
     "metadata": {},
     "output_type": "display_data"
    },
    {
     "name": "stderr",
     "output_type": "stream",
     "text": [
      "C:\\ProgramData\\Anaconda3\\lib\\site-packages\\pytorch_lightning\\trainer\\data_loading.py:432: UserWarning: The number of training samples (20) is smaller than the logging interval Trainer(log_every_n_steps=50). Set a lower value for log_every_n_steps if you want to see logs for the training epoch.\n",
      "  rank_zero_warn(\n"
     ]
    },
    {
     "data": {
      "application/vnd.jupyter.widget-view+json": {
       "model_id": "b5459986e92d4bde96e0a8d19717dd16",
       "version_major": 2,
       "version_minor": 0
      },
      "text/plain": [
       "Training: 0it [00:00, ?it/s]"
      ]
     },
     "metadata": {},
     "output_type": "display_data"
    },
    {
     "data": {
      "application/vnd.jupyter.widget-view+json": {
       "model_id": "2cda09d0c6274e5e807ef33069ba8797",
       "version_major": 2,
       "version_minor": 0
      },
      "text/plain": [
       "Validating: 0it [00:00, ?it/s]"
      ]
     },
     "metadata": {},
     "output_type": "display_data"
    },
    {
     "data": {
      "application/vnd.jupyter.widget-view+json": {
       "model_id": "",
       "version_major": 2,
       "version_minor": 0
      },
      "text/plain": [
       "Validating: 0it [00:00, ?it/s]"
      ]
     },
     "metadata": {},
     "output_type": "display_data"
    }
   ],
   "source": [
    "dgcnn = DepthDGCNN()\n",
    "\n",
    "trainer = pl.Trainer(gpus=1, max_epochs=epochs, precision=32)\n",
    "\n",
    "trainer.fit(dgcnn, train_loader, valid_loader)"
   ]
  },
  {
   "cell_type": "markdown",
   "id": "3a9a8f24",
   "metadata": {},
   "source": [
    "### Test model"
   ]
  },
  {
   "cell_type": "code",
   "execution_count": 10,
   "id": "ce325dc2",
   "metadata": {},
   "outputs": [],
   "source": [
    "# Create test loader\n",
    "test_loader = DataLoader(train_set, num_workers=1, batch_size=1, shuffle=False, drop_last=False, pin_memory=True)\n",
    "test_loader_iter = iter(test_loader)\n",
    "\n",
    "# Send model to device\n",
    "device = torch.device(\"cuda\")\n",
    "dgcnn.to(device);\n",
    "\n",
    "#trainer.test(test_dataloaders=val)"
   ]
  },
  {
   "cell_type": "code",
   "execution_count": 16,
   "id": "80fd7fa8",
   "metadata": {
    "scrolled": true
   },
   "outputs": [
    {
     "data": {
      "application/vnd.jupyter.widget-view+json": {
       "model_id": "10624934060a4a31947c1b983ec5d96d",
       "version_major": 2,
       "version_minor": 0
      },
      "text/plain": [
       "Renderer(camera=PerspectiveCamera(children=(DirectionalLight(color='white', intensity=0.6, position=(0.0079492…"
      ]
     },
     "metadata": {},
     "output_type": "display_data"
    }
   ],
   "source": [
    "# Get next pointcloud and send it to device\n",
    "pixels, depth, fn = next(test_loader_iter)\n",
    "pixels, fn = pixels.to(device), fn.to(device)\n",
    "\n",
    "# Predict\n",
    "depth_pred = dgcnn((pixels, depth, fn))\n",
    "\n",
    "# Send prediction to cpu and plot it\n",
    "pixels = pixels.detach().cpu().squeeze().numpy()\n",
    "depth_pred = depth_pred.detach().cpu().squeeze().numpy()\n",
    "plot_3d_pointcloud(train_set.denormalize(pixels), depth_pred, train_set.im_shape)"
   ]
  },
  {
   "cell_type": "markdown",
   "id": "9aae6849",
   "metadata": {},
   "source": [
    "### Load model"
   ]
  },
  {
   "cell_type": "code",
   "execution_count": null,
   "id": "30800d10",
   "metadata": {},
   "outputs": [],
   "source": [
    "checkpoint_dir = 'lightning_logs/version_xx/checkpoints/'\n",
    "\n",
    "filename = listdir(checkpoint_dir)[0]\n",
    "model = DepthDGCNN.load_from_checkpoint(checkpoint_dir + filename)"
   ]
  }
 ],
 "metadata": {
  "kernelspec": {
   "display_name": "Python 3 (ipykernel)",
   "language": "python",
   "name": "python3"
  },
  "language_info": {
   "codemirror_mode": {
    "name": "ipython",
    "version": 3
   },
   "file_extension": ".py",
   "mimetype": "text/x-python",
   "name": "python",
   "nbconvert_exporter": "python",
   "pygments_lexer": "ipython3",
   "version": "3.8.5"
  }
 },
 "nbformat": 4,
 "nbformat_minor": 5
}
