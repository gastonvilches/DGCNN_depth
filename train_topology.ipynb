{
 "cells": [
  {
   "cell_type": "code",
   "execution_count": 2,
   "id": "6dcc0408",
   "metadata": {
    "scrolled": true
   },
   "outputs": [],
   "source": [
    "import torch\n",
    "from torch import nn\n",
    "from torch.nn import functional as F\n",
    "import pytorch_lightning as pl\n",
    "import numpy as np\n",
    "from sklearn.metrics import recall_score, accuracy_score\n",
    "\n",
    "from DGCNN import DGCNN_reg\n",
    "from utils.data_depth import DepthDataset\n",
    "from utils.dataloader import DataLoader\n",
    "from utils.plot import plot_3d_pointcloud"
   ]
  },
  {
   "cell_type": "markdown",
   "id": "acf10e29",
   "metadata": {},
   "source": [
    "### Datasets and dataloaders:"
   ]
  },
  {
   "cell_type": "code",
   "execution_count": 3,
   "id": "e0dd7ee9",
   "metadata": {},
   "outputs": [],
   "source": [
    "train_set    = DepthDataset(partition='train', outputs=['edge_label','edge_index'], normalize=True, \n",
    "                            pc_mean=0.5, repeat=1, shuffle_pixels=False, preload=True)\n",
    "train_loader = DataLoader(train_set, batch_size=None, shuffle=True, drop_last=True, pin_memory=True)\n",
    "valid_set    = DepthDataset(partition='valid', outputs=['edge_label','edge_index'], normalize=True, \n",
    "                            pc_mean=0.5, repeat=1, shuffle_pixels=False)\n",
    "valid_loader = DataLoader(valid_set, batch_size=None, shuffle=False, drop_last=True, pin_memory=True)"
   ]
  },
  {
   "cell_type": "markdown",
   "id": "f5f0eff5",
   "metadata": {},
   "source": [
    "### Models and pytorch lightning system:"
   ]
  },
  {
   "cell_type": "code",
   "execution_count": 8,
   "id": "0f4fcd2d",
   "metadata": {},
   "outputs": [],
   "source": [
    "from torch_geometric.nn import GAE\n",
    "from torch_geometric.nn import GCNConv\n",
    "\n",
    "class GCNEncoder(nn.Module):\n",
    "    def __init__(self, in_channels=2, hidden_channels=8, out_channels=8):\n",
    "        super().__init__()\n",
    "        self.conv1 = GCNConv(in_channels, hidden_channels)\n",
    "        self.conv2 = GCNConv(hidden_channels, hidden_channels)\n",
    "        self.conv3 = GCNConv(hidden_channels, hidden_channels)\n",
    "        self.conv4 = GCNConv(hidden_channels, out_channels)\n",
    "        self.act = nn.LeakyReLU(negative_slope=0.1)\n",
    "        \n",
    "    def forward(self, x, edge_index):\n",
    "        x = self.act(self.conv1(x, edge_index))\n",
    "        x = self.act(self.conv2(x, edge_index))\n",
    "        x = self.act(self.conv3(x, edge_index))\n",
    "        return self.conv4(x, edge_index)\n",
    "    \n",
    "class MLPDecoder(nn.Module):\n",
    "    def __init__(self, in_channels=8, out_channels=2):\n",
    "        super().__init__()\n",
    "        self.conv1 = nn.Conv2d(in_channels, out_channels, kernel_size=1)\n",
    "        \n",
    "    def forward(self, x):\n",
    "        x = self.conv1(x)\n",
    "        return x.squeeze(0)\n",
    "    \n",
    "class EdgeClassifier(nn.Module):\n",
    "    def __init__(self, in_channels=2, hidden_gcn=8, emb_dims=8, out_channels=2):\n",
    "        super().__init__()\n",
    "        self.encoder = GCNEncoder(in_channels, hidden_gcn, emb_dims)\n",
    "        self.decoder = MLPDecoder(2*emb_dims, out_channels)\n",
    "\n",
    "    def forward(self, x, edge_index):\n",
    "        xp = x.permute(1, 0) # GCNConv needs node features to be [N,C]\n",
    "        x = self.encoder(xp, edge_index)\n",
    "        \n",
    "        N, C = x.size()\n",
    "        K = round(edge_index.size(1) / N)\n",
    "        \n",
    "        x1 = x.permute(1,0).unsqueeze(2).repeat(repeats=(1, 1, K))\n",
    "        x2 = x[edge_index[1,:],:].reshape(N, K, C).permute(2, 0, 1)\n",
    "        \n",
    "        x = torch.cat((x1, x2), dim=0)\n",
    "        x = self.decoder(x.unsqueeze(0))\n",
    "        return x\n",
    "\n",
    "class TopologyGCN(pl.LightningModule):\n",
    "    def __init__(self, in_channels=2, hidden_gcn=8, emb_dims=8, out_channels=2, weight=torch.tensor([0.5, 0.5])):\n",
    "        super().__init__()\n",
    "        self.model = EdgeClassifier(in_channels, hidden_gcn, emb_dims, out_channels)\n",
    "        self.criterion = nn.CrossEntropyLoss(weight=weight)\n",
    "        \n",
    "    def forward(self, batch):\n",
    "        pixels, edge_label, edge_index = batch\n",
    "        edge_label_pred = self.model(pixels, edge_index)\n",
    "        return edge_label_pred\n",
    "    \n",
    "    def training_step(self, batch, batch_idx):\n",
    "        pixels, edge_label, edge_index = batch\n",
    "        edge_label_pred = self(batch)\n",
    "        loss = self.criterion(edge_label_pred.permute(1,0,2), edge_label)\n",
    "        self.log('loss', {'train': loss}, on_step=False, on_epoch=True)\n",
    "        return {'loss': loss, 'edge_label': edge_label, 'edge_label_pred': edge_label_pred.argmax(0)}\n",
    "\n",
    "    def validation_step(self, batch, batch_idx):\n",
    "        pixels, edge_label, edge_index = batch\n",
    "        edge_label_pred = self(batch)\n",
    "        loss = self.criterion(edge_label_pred.permute(1,0,2), edge_label)\n",
    "        self.log('loss', {'valid': loss}, on_step=False, on_epoch=True)\n",
    "        return {'edge_label': edge_label, 'edge_label_pred': edge_label_pred.argmax(0)}\n",
    "    \n",
    "    def training_epoch_end(self, training_step_outputs):\n",
    "        labels = torch.stack([x['edge_label'].cpu() for x in training_step_outputs]).flatten()\n",
    "        labels_pred = torch.stack([x['edge_label_pred'].cpu() for x in training_step_outputs]).flatten()\n",
    "        self.log('metrics', {'acc_train': accuracy_score(labels, labels_pred),\n",
    "                             'tpr_train': recall_score(labels, labels_pred, pos_label=1),\n",
    "                             'tnr_train': recall_score(labels, labels_pred, pos_label=0)}, on_step=False, on_epoch=True)\n",
    "        \n",
    "    def validation_epoch_end(self, validation_step_outputs):\n",
    "        labels = torch.stack([x['edge_label'].cpu().flatten() for x in validation_step_outputs]).flatten()\n",
    "        labels_pred = torch.stack([x['edge_label_pred'].cpu().flatten() for x in validation_step_outputs]).flatten()\n",
    "        self.log('metrics', {'acc_val': accuracy_score(labels, labels_pred),\n",
    "                             'tpr_val': recall_score(labels, labels_pred, pos_label=1),\n",
    "                             'tnr_val': recall_score(labels, labels_pred, pos_label=0)}, on_step=False, on_epoch=True)\n",
    "        \n",
    "    def test_step(self, batch, batch_idx):\n",
    "        pixels, edge_label, edge_index = batch\n",
    "        edge_label_pred = self(batch)\n",
    "        loss = self.criterion(edge_label_pred, edge_label)\n",
    "        self.log('loss', {'valid': loss}, on_step=False, on_epoch=True)\n",
    "        return {'edge_label': edge_label, 'edge_label_pred': edge_label_pred.argmax(1)}\n",
    "        \n",
    "    def configure_optimizers(self):\n",
    "        optimizer = torch.optim.Adam(self.parameters(), lr=lr)\n",
    "        return optimizer"
   ]
  },
  {
   "cell_type": "markdown",
   "id": "9854adf5",
   "metadata": {},
   "source": [
    "### Init tensorboard"
   ]
  },
  {
   "cell_type": "code",
   "execution_count": 2,
   "id": "592781ec",
   "metadata": {
    "scrolled": false
   },
   "outputs": [
    {
     "name": "stdout",
     "output_type": "stream",
     "text": [
      "The tensorboard extension is already loaded. To reload it, use:\n",
      "  %reload_ext tensorboard\n"
     ]
    },
    {
     "data": {
      "text/html": [
       "\n",
       "      <iframe id=\"tensorboard-frame-7e8aa4718c3e6c76\" width=\"100%\" height=\"800\" frameborder=\"0\">\n",
       "      </iframe>\n",
       "      <script>\n",
       "        (function() {\n",
       "          const frame = document.getElementById(\"tensorboard-frame-7e8aa4718c3e6c76\");\n",
       "          const url = new URL(\"/\", window.location);\n",
       "          const port = 6006;\n",
       "          if (port) {\n",
       "            url.port = port;\n",
       "          }\n",
       "          frame.src = url;\n",
       "        })();\n",
       "      </script>\n",
       "    "
      ],
      "text/plain": [
       "<IPython.core.display.HTML object>"
      ]
     },
     "metadata": {},
     "output_type": "display_data"
    }
   ],
   "source": [
    "%load_ext tensorboard\n",
    "%tensorboard --logdir lightning_logs/"
   ]
  },
  {
   "cell_type": "markdown",
   "id": "c6adf876",
   "metadata": {},
   "source": [
    "### Init and train the model"
   ]
  },
  {
   "cell_type": "code",
   "execution_count": 13,
   "id": "2d488807",
   "metadata": {},
   "outputs": [
    {
     "name": "stdout",
     "output_type": "stream",
     "text": [
      "0.4712864000000039\n"
     ]
    }
   ],
   "source": [
    "import time\n",
    "\n",
    "t1 = time.perf_counter()\n",
    "\n",
    "n,p = (0,0)\n",
    "for _, edge_label, _ in train_loader:\n",
    "    p += edge_label.sum()\n",
    "    n += edge_label.numel()\n",
    "    \n",
    "print(time.perf_counter() - t1)"
   ]
  },
  {
   "cell_type": "code",
   "execution_count": null,
   "id": "d137abae",
   "metadata": {
    "scrolled": false
   },
   "outputs": [
    {
     "name": "stderr",
     "output_type": "stream",
     "text": [
      "GPU available: True, used: True\n",
      "TPU available: False, using: 0 TPU cores\n",
      "IPU available: False, using: 0 IPUs\n",
      "C:\\ProgramData\\Anaconda3\\lib\\site-packages\\pytorch_lightning\\trainer\\configuration_validator.py:122: UserWarning: You defined a `validation_step` but have no `val_dataloader`. Skipping val loop.\n",
      "  rank_zero_warn(\"You defined a `validation_step` but have no `val_dataloader`. Skipping val loop.\")\n",
      "LOCAL_RANK: 0 - CUDA_VISIBLE_DEVICES: [0]\n",
      "\n",
      "  | Name      | Type             | Params\n",
      "-----------------------------------------------\n",
      "0 | model     | EdgeClassifier   | 12.9 K\n",
      "1 | criterion | CrossEntropyLoss | 0     \n",
      "-----------------------------------------------\n",
      "12.9 K    Trainable params\n",
      "0         Non-trainable params\n",
      "12.9 K    Total params\n",
      "0.052     Total estimated model params size (MB)\n"
     ]
    },
    {
     "name": "stdout",
     "output_type": "stream",
     "text": [
      "tensor([0.0513, 0.9487])\n"
     ]
    },
    {
     "data": {
      "application/vnd.jupyter.widget-view+json": {
       "model_id": "2246d6d0243e4c9885ff76b864f2ed90",
       "version_major": 2,
       "version_minor": 0
      },
      "text/plain": [
       "Training: 0it [00:00, ?it/s]"
      ]
     },
     "metadata": {},
     "output_type": "display_data"
    }
   ],
   "source": [
    "lr = 1e-3\n",
    "epochs = 4000\n",
    "pos_weight = 1.0\n",
    "\n",
    "n,p = (0,0)\n",
    "for _, edge_label, _ in train_loader:\n",
    "    p += edge_label.sum()\n",
    "    n += edge_label.numel()\n",
    "    \n",
    "weight = torch.Tensor([1/(1-p/n), pos_weight/(p/n)])\n",
    "weight /= weight.sum()\n",
    "print(weight)\n",
    "\n",
    "tgcn = TopologyGCN(in_channels=2, hidden_gcn=64, emb_dims=64, out_channels=2, weight=weight)\n",
    "\n",
    "trainer = pl.Trainer(gpus=1, max_epochs=epochs, precision=32)\n",
    "\n",
    "trainer.fit(tgcn, train_loader)#, valid_loader)"
   ]
  },
  {
   "cell_type": "code",
   "execution_count": null,
   "id": "f350cd30",
   "metadata": {},
   "outputs": [],
   "source": []
  },
  {
   "cell_type": "code",
   "execution_count": null,
   "id": "f2e06d60",
   "metadata": {},
   "outputs": [],
   "source": []
  },
  {
   "cell_type": "code",
   "execution_count": null,
   "id": "9f9776a3",
   "metadata": {},
   "outputs": [],
   "source": []
  },
  {
   "cell_type": "code",
   "execution_count": null,
   "id": "9d73a3ba",
   "metadata": {},
   "outputs": [],
   "source": []
  },
  {
   "cell_type": "markdown",
   "id": "3a9a8f24",
   "metadata": {},
   "source": [
    "### Test model"
   ]
  },
  {
   "cell_type": "code",
   "execution_count": 10,
   "id": "ce325dc2",
   "metadata": {},
   "outputs": [],
   "source": [
    "# Create test loader\n",
    "test_loader = DataLoader(train_set, num_workers=1, batch_size=1, shuffle=False, drop_last=False, pin_memory=True)\n",
    "test_loader_iter = iter(test_loader)\n",
    "\n",
    "# Send model to device\n",
    "device = torch.device(\"cuda\")\n",
    "dgcnn.to(device);\n",
    "\n",
    "#trainer.test(test_dataloaders=val)"
   ]
  },
  {
   "cell_type": "code",
   "execution_count": 16,
   "id": "80fd7fa8",
   "metadata": {
    "scrolled": true
   },
   "outputs": [
    {
     "data": {
      "application/vnd.jupyter.widget-view+json": {
       "model_id": "10624934060a4a31947c1b983ec5d96d",
       "version_major": 2,
       "version_minor": 0
      },
      "text/plain": [
       "Renderer(camera=PerspectiveCamera(children=(DirectionalLight(color='white', intensity=0.6, position=(0.0079492…"
      ]
     },
     "metadata": {},
     "output_type": "display_data"
    }
   ],
   "source": [
    "# Get next pointcloud and send it to device\n",
    "pixels, depth, fn = next(test_loader_iter)\n",
    "pixels, fn = pixels.to(device), fn.to(device)\n",
    "\n",
    "# Predict\n",
    "depth_pred = dgcnn((pixels, depth, fn))\n",
    "\n",
    "# Send prediction to cpu and plot it\n",
    "pixels = pixels.detach().cpu().squeeze().numpy()\n",
    "depth_pred = depth_pred.detach().cpu().squeeze().numpy()\n",
    "plot_3d_pointcloud(train_set.denormalize(pixels), depth_pred, train_set.im_shape)"
   ]
  },
  {
   "cell_type": "markdown",
   "id": "9aae6849",
   "metadata": {},
   "source": [
    "### Load model"
   ]
  },
  {
   "cell_type": "code",
   "execution_count": null,
   "id": "30800d10",
   "metadata": {},
   "outputs": [],
   "source": [
    "checkpoint_dir = 'lightning_logs/version_xx/checkpoints/'\n",
    "\n",
    "filename = listdir(checkpoint_dir)[0]\n",
    "model = LitModel.load_from_checkpoint(checkpoint_dir + filename)"
   ]
  }
 ],
 "metadata": {
  "kernelspec": {
   "display_name": "Python 3 (ipykernel)",
   "language": "python",
   "name": "python3"
  },
  "language_info": {
   "codemirror_mode": {
    "name": "ipython",
    "version": 3
   },
   "file_extension": ".py",
   "mimetype": "text/x-python",
   "name": "python",
   "nbconvert_exporter": "python",
   "pygments_lexer": "ipython3",
   "version": "3.8.5"
  }
 },
 "nbformat": 4,
 "nbformat_minor": 5
}
